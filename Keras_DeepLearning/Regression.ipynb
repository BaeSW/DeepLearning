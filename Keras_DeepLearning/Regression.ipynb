{
 "cells": [
  {
   "cell_type": "code",
   "execution_count": 2,
   "metadata": {},
   "outputs": [
    {
     "name": "stderr",
     "output_type": "stream",
     "text": [
      "Using TensorFlow backend.\n"
     ]
    }
   ],
   "source": [
    "from keras.datasets import boston_housing\n",
    "\n",
    "(train_data, train_targets), (test_data, test_targets) = boston_housing.load_data()"
   ]
  },
  {
   "cell_type": "code",
   "execution_count": 3,
   "metadata": {},
   "outputs": [
    {
     "data": {
      "text/plain": [
       "(102, 13)"
      ]
     },
     "execution_count": 3,
     "metadata": {},
     "output_type": "execute_result"
    }
   ],
   "source": [
    "\"\"\"404개의 훈련샘플, 102개의 테스트샘플\"\"\"\n",
    "train_data.shape\n",
    "test_data.shape"
   ]
  },
  {
   "cell_type": "code",
   "execution_count": 4,
   "metadata": {},
   "outputs": [
    {
     "data": {
      "text/plain": [
       "404"
      ]
     },
     "execution_count": 4,
     "metadata": {},
     "output_type": "execute_result"
    }
   ],
   "source": [
    "\"\"\"\n",
    "입력데이터에 있는 각 특성은 스케일이 다르다.\n",
    "어떤값은 0~1사이 비율, 어떤값은 1~12사이의 값, 어떤값은 1~100까지의 값\n",
    "상이한 스케일 값을 신경망에 주입하면 문제가 되니 조정해줘야함\n",
    "입력데이터에 있는 각 특성에 대해서, 즉 입력데이터 행렬의 열에 대해서 (axis=0) 특성의 평균을 빼고 표준편차로 나눈다.\n",
    "테스트데이터를 정규화할때에도 훈련데이터의 mean, std값으로 계산한다.\n",
    "---------머신러닝작업과정에서 절대로 테스트데이터에서 계산한 어떤값도 사용하면 안된다!\n",
    "\"\"\"\n",
    "mean = train_data.mean(axis=0)\n",
    "train_data -=mean\n",
    "std = train_data.std(axis=0)\n",
    "train_data /=std\n",
    "\n",
    "test_data -=mean\n",
    "test_data/=std\n",
    "\n",
    "len(train_data)"
   ]
  },
  {
   "cell_type": "code",
   "execution_count": 5,
   "metadata": {},
   "outputs": [],
   "source": [
    "\"\"\"\n",
    "훈련데이터의 갯수가 적을수록 과대적합이 더 쉽게 일어나므로 \n",
    "데이터가 적을때에는 작은 모델을 사용하는것이 과대적합을 피하는 방법.\n",
    "마지막층은 활성화 함수가 없다(선형층), 전형적인 스칼라회귀(하나의연속적인 값을 예측)구성\n",
    "[마지막층에 sigmoid활성화 함수를 쓰면 0~1사이의 값이 나온다]\n",
    "회귀문제에서 널리 사용되는 mse손실함수는 평균제곱오차의 약어로 예측과 타깃 사이 거리의 제곱이다.\n",
    "훈련도중 모니터링을 위해 평균절대오차(MAE)를 측정. 예측과 타깃 사이 거리의 절댓값이다.\n",
    "[예를들어 이 예제에서 MAE가 0.5이면 예측이 평균적으로 500달러 정도 차이난다는 뜻.]\n",
    "\"\"\"\n",
    "from keras import models\n",
    "from keras import layers\n",
    "\n",
    "def build_model():\n",
    "    model = models.Sequential()\n",
    "    model.add(layers.Dense(64, activation='relu',\n",
    "                           input_shape=(train_data.shape[1],) ))\n",
    "    model.add(layers.Dense(64, activation='relu'))\n",
    "    model.add(layers.Dense(1))\n",
    "    model.compile(optimizer='rmsprop', loss='mse', metrics=['mae'])\n",
    "    return model"
   ]
  },
  {
   "cell_type": "code",
   "execution_count": 9,
   "metadata": {},
   "outputs": [
    {
     "name": "stdout",
     "output_type": "stream",
     "text": [
      "처리중인 폴드 # 0\n",
      "처리중인 폴드 # 1\n",
      "처리중인 폴드 # 2\n",
      "처리중인 폴드 # 3\n"
     ]
    }
   ],
   "source": [
    "\"\"\"\n",
    "k겹 교차검증\n",
    "검증세트와 훈련세트로 어떤 데이터 포인트가 선택되었는지에 따라 검증점수가 크게 달라지기때문에 \n",
    "데이터를 K개(일반적으로 k = 4 또는 5) 분할로나누고 K개의 모델을 만들어 k-1개의 분할에서 훈련, 나머지 분할에서 평가.\n",
    "검증점수는 k개의 검증점수의 평균.\n",
    "\"\"\"\n",
    "import numpy as np\n",
    "\n",
    "k=4\n",
    "num_val_samples = len(train_data)//k\n",
    "num_epochs = 100\n",
    "all_scores=[]\n",
    "for i in range(k):\n",
    "    print('처리중인 폴드 #',i)\n",
    "    val_data = train_data[i * num_val_samples: (i+1)* num_val_samples]\n",
    "    val_targets = train_targets[i*num_val_samples: (i+1)*num_val_samples]\n",
    "    \n",
    "    partial_train_data = np.concatenate(\n",
    "     [train_data[:i * num_val_samples], \n",
    "      train_data[(i+1)*num_val_samples:]],\n",
    "    axis=0)\n",
    "    \n",
    "    partial_train_targets = np.concatenate(\n",
    "    [train_targets[:i*num_val_samples],\n",
    "    train_targets[(i+1)*num_val_samples:]],\n",
    "    axis=0)\n",
    "    \n",
    "    model = build_model()\n",
    "    model.fit(partial_train_data, partial_train_targets,\n",
    "             epochs = num_epochs, batch_size=1, verbose=0)\n",
    "    val_mse, val_mae = model.evaluate(val_data, val_targets, verbose=0)\n",
    "    all_scores.append(val_mae)"
   ]
  },
  {
   "cell_type": "code",
   "execution_count": 11,
   "metadata": {},
   "outputs": [
    {
     "data": {
      "text/plain": [
       "2.4340372075243755"
      ]
     },
     "execution_count": 11,
     "metadata": {},
     "output_type": "execute_result"
    }
   ],
   "source": [
    "np.mean(all_scores)"
   ]
  },
  {
   "cell_type": "code",
   "execution_count": null,
   "metadata": {},
   "outputs": [],
   "source": []
  }
 ],
 "metadata": {
  "kernelspec": {
   "display_name": "Python 3",
   "language": "python",
   "name": "python3"
  },
  "language_info": {
   "codemirror_mode": {
    "name": "ipython",
    "version": 3
   },
   "file_extension": ".py",
   "mimetype": "text/x-python",
   "name": "python",
   "nbconvert_exporter": "python",
   "pygments_lexer": "ipython3",
   "version": "3.6.8"
  }
 },
 "nbformat": 4,
 "nbformat_minor": 2
}
